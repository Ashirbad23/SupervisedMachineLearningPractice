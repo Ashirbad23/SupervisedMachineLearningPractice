{
 "cells": [
  {
   "cell_type": "markdown",
   "id": "b29450bc-b9e3-4fe6-8b99-acd252b70bd3",
   "metadata": {},
   "source": [
    "Question 1\n"
   ]
  },
  {
   "cell_type": "code",
   "execution_count": 1,
   "id": "9ab4b2ac-0b5c-4c46-94b3-c7df02bff40d",
   "metadata": {},
   "outputs": [
    {
     "data": {
      "text/plain": [
       "-85.0"
      ]
     },
     "execution_count": 1,
     "metadata": {},
     "output_type": "execute_result"
    }
   ],
   "source": [
    "-7*20+8/16*2+54"
   ]
  },
  {
   "cell_type": "code",
   "execution_count": 2,
   "id": "f29f3a4b-913c-4552-bb45-a771a378410e",
   "metadata": {},
   "outputs": [
    {
     "data": {
      "text/plain": [
       "2"
      ]
     },
     "execution_count": 2,
     "metadata": {},
     "output_type": "execute_result"
    }
   ],
   "source": [
    "7**2//9%3"
   ]
  },
  {
   "cell_type": "code",
   "execution_count": 3,
   "id": "93745a67-2e71-4e93-874f-03e9db9e55f4",
   "metadata": {},
   "outputs": [
    {
     "data": {
      "text/plain": [
       "-50"
      ]
     },
     "execution_count": 3,
     "metadata": {},
     "output_type": "execute_result"
    }
   ],
   "source": [
    "(7-4*2)*10-25*8//5"
   ]
  },
  {
   "cell_type": "code",
   "execution_count": 4,
   "id": "8bd3a900-cceb-4ad4-ac09-4a824acd1bc5",
   "metadata": {},
   "outputs": [
    {
     "ename": "TypeError",
     "evalue": "unsupported operand type(s) for -: 'str' and 'int'",
     "output_type": "error",
     "traceback": [
      "\u001b[1;31m---------------------------------------------------------------------------\u001b[0m",
      "\u001b[1;31mTypeError\u001b[0m                                 Traceback (most recent call last)",
      "Cell \u001b[1;32mIn[4], line 1\u001b[0m\n\u001b[1;32m----> 1\u001b[0m \u001b[38;5;124;43m'\u001b[39;49m\u001b[38;5;124;43mhello\u001b[39;49m\u001b[38;5;124;43m'\u001b[39;49m\u001b[38;5;241;43m*\u001b[39;49m\u001b[38;5;241;43m2\u001b[39;49m\u001b[38;5;241;43m-\u001b[39;49m\u001b[38;5;241;43m5\u001b[39;49m\n",
      "\u001b[1;31mTypeError\u001b[0m: unsupported operand type(s) for -: 'str' and 'int'"
     ]
    }
   ],
   "source": [
    "'hello'*2-5"
   ]
  },
  {
   "cell_type": "markdown",
   "id": "ee965df2-9a38-4659-862c-d27c663ac350",
   "metadata": {},
   "source": [
    "\n",
    "Question 2\n"
   ]
  },
  {
   "cell_type": "code",
   "execution_count": 7,
   "id": "e3933d61-9fa7-40d4-9d04-b1df6cbd2fdf",
   "metadata": {},
   "outputs": [
    {
     "data": {
      "text/plain": [
       "False"
      ]
     },
     "execution_count": 7,
     "metadata": {},
     "output_type": "execute_result"
    }
   ],
   "source": [
    "'hi' > 'hello' and 'bye' < 'Bye'"
   ]
  },
  {
   "cell_type": "code",
   "execution_count": 9,
   "id": "9c0fed9b-f4ea-41e8-b3eb-95ffa041e72f",
   "metadata": {},
   "outputs": [
    {
     "data": {
      "text/plain": [
       "True"
      ]
     },
     "execution_count": 9,
     "metadata": {},
     "output_type": "execute_result"
    }
   ],
   "source": [
    "'hi' > 'hello' or 'bye' < 'Bye'"
   ]
  },
  {
   "cell_type": "code",
   "execution_count": 10,
   "id": "fbc6e64e-ebbb-43fa-8b2d-0bdcb2d59df9",
   "metadata": {},
   "outputs": [
    {
     "data": {
      "text/plain": [
       "False"
      ]
     },
     "execution_count": 10,
     "metadata": {},
     "output_type": "execute_result"
    }
   ],
   "source": [
    "7>8 or 5 < 6 and 'I am fine' > 'I am not fine'"
   ]
  },
  {
   "cell_type": "code",
   "execution_count": 11,
   "id": "81ed94df-3118-4596-a464-7059d5ce6958",
   "metadata": {},
   "outputs": [
    {
     "data": {
      "text/plain": [
       "True"
      ]
     },
     "execution_count": 11,
     "metadata": {},
     "output_type": "execute_result"
    }
   ],
   "source": [
    "10!=9 and 29>=29"
   ]
  },
  {
   "cell_type": "code",
   "execution_count": 12,
   "id": "0be73b6a-b1a4-4d81-9603-5926070646eb",
   "metadata": {},
   "outputs": [
    {
     "data": {
      "text/plain": [
       "True"
      ]
     },
     "execution_count": 12,
     "metadata": {},
     "output_type": "execute_result"
    }
   ],
   "source": [
    "10!=9 and 29>=29 and 'hi' >'hello' or 'bye' < 'Bye' and 7<=2.5"
   ]
  },
  {
   "cell_type": "markdown",
   "id": "1cd6c199-e3fe-456b-9ccb-e399856255ce",
   "metadata": {},
   "source": [
    "Question 3"
   ]
  },
  {
   "cell_type": "code",
   "execution_count": 1,
   "id": "aa03e66d-b7c9-4ae8-b8b5-2231f1d78218",
   "metadata": {},
   "outputs": [
    {
     "name": "stdin",
     "output_type": "stream",
     "text": [
      "Enter: 70\n"
     ]
    },
    {
     "name": "stdout",
     "output_type": "stream",
     "text": [
      "good\n"
     ]
    }
   ],
   "source": [
    "marks = int(input(\"Enter:\" ))\n",
    "if marks>=70:\n",
    "    remarks='good'\n",
    "else: \n",
    "    remarks='average'\n",
    "print(remarks)\n"
   ]
  },
  {
   "cell_type": "code",
   "execution_count": null,
   "id": "087d481d",
   "metadata": {},
   "outputs": [],
   "source": []
  }
 ],
 "metadata": {
  "kernelspec": {
   "display_name": "Python 3 (ipykernel)",
   "language": "python",
   "name": "python3"
  },
  "language_info": {
   "codemirror_mode": {
    "name": "ipython",
    "version": 3
   },
   "file_extension": ".py",
   "mimetype": "text/x-python",
   "name": "python",
   "nbconvert_exporter": "python",
   "pygments_lexer": "ipython3",
   "version": "3.12.2"
  }
 },
 "nbformat": 4,
 "nbformat_minor": 5
}
