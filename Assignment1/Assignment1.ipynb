{
 "cells": [
  {
   "cell_type": "markdown",
   "id": "b29450bc-b9e3-4fe6-8b99-acd252b70bd3",
   "metadata": {},
   "source": [
    "Question 1\n"
   ]
  },
  {
   "cell_type": "code",
   "execution_count": 1,
   "id": "9ab4b2ac-0b5c-4c46-94b3-c7df02bff40d",
   "metadata": {},
   "outputs": [
    {
     "data": {
      "text/plain": [
       "-85.0"
      ]
     },
     "execution_count": 1,
     "metadata": {},
     "output_type": "execute_result"
    }
   ],
   "source": [
    "-7*20+8/16*2+54"
   ]
  },
  {
   "cell_type": "code",
   "execution_count": 2,
   "id": "f29f3a4b-913c-4552-bb45-a771a378410e",
   "metadata": {},
   "outputs": [
    {
     "data": {
      "text/plain": [
       "2"
      ]
     },
     "execution_count": 2,
     "metadata": {},
     "output_type": "execute_result"
    }
   ],
   "source": [
    "7**2//9%3"
   ]
  },
  {
   "cell_type": "code",
   "execution_count": 3,
   "id": "93745a67-2e71-4e93-874f-03e9db9e55f4",
   "metadata": {},
   "outputs": [
    {
     "data": {
      "text/plain": [
       "-50"
      ]
     },
     "execution_count": 3,
     "metadata": {},
     "output_type": "execute_result"
    }
   ],
   "source": [
    "(7-4*2)*10-25*8//5"
   ]
  },
  {
   "cell_type": "code",
   "execution_count": 4,
   "id": "8bd3a900-cceb-4ad4-ac09-4a824acd1bc5",
   "metadata": {},
   "outputs": [
    {
     "ename": "TypeError",
     "evalue": "unsupported operand type(s) for -: 'str' and 'int'",
     "output_type": "error",
     "traceback": [
      "\u001b[1;31m---------------------------------------------------------------------------\u001b[0m",
      "\u001b[1;31mTypeError\u001b[0m                                 Traceback (most recent call last)",
      "Cell \u001b[1;32mIn[4], line 1\u001b[0m\n\u001b[1;32m----> 1\u001b[0m \u001b[38;5;124;43m'\u001b[39;49m\u001b[38;5;124;43mhello\u001b[39;49m\u001b[38;5;124;43m'\u001b[39;49m\u001b[38;5;241;43m*\u001b[39;49m\u001b[38;5;241;43m2\u001b[39;49m\u001b[38;5;241;43m-\u001b[39;49m\u001b[38;5;241;43m5\u001b[39;49m\n",
      "\u001b[1;31mTypeError\u001b[0m: unsupported operand type(s) for -: 'str' and 'int'"
     ]
    }
   ],
   "source": [
    "'hello'*2-5"
   ]
  },
  {
   "cell_type": "markdown",
   "id": "ee965df2-9a38-4659-862c-d27c663ac350",
   "metadata": {},
   "source": [
    "\n",
    "Question 2\n"
   ]
  },
  {
   "cell_type": "code",
   "execution_count": 7,
   "id": "e3933d61-9fa7-40d4-9d04-b1df6cbd2fdf",
   "metadata": {},
   "outputs": [
    {
     "data": {
      "text/plain": [
       "False"
      ]
     },
     "execution_count": 7,
     "metadata": {},
     "output_type": "execute_result"
    }
   ],
   "source": [
    "'hi' > 'hello' and 'bye' < 'Bye'"
   ]
  },
  {
   "cell_type": "code",
   "execution_count": 6,
   "id": "9c0fed9b-f4ea-41e8-b3eb-95ffa041e72f",
   "metadata": {},
   "outputs": [
    {
     "data": {
      "text/plain": [
       "True"
      ]
     },
     "execution_count": 6,
     "metadata": {},
     "output_type": "execute_result"
    }
   ],
   "source": [
    "'hi' > 'hello' or 'bye' < 'Bye'"
   ]
  },
  {
   "cell_type": "code",
   "execution_count": 8,
   "id": "fbc6e64e-ebbb-43fa-8b2d-0bdcb2d59df9",
   "metadata": {},
   "outputs": [
    {
     "data": {
      "text/plain": [
       "False"
      ]
     },
     "execution_count": 8,
     "metadata": {},
     "output_type": "execute_result"
    }
   ],
   "source": [
    "7>8 or 5 < 6 and 'I am fine' > 'I am not fine'"
   ]
  },
  {
   "cell_type": "code",
   "execution_count": 11,
   "id": "81ed94df-3118-4596-a464-7059d5ce6958",
   "metadata": {},
   "outputs": [
    {
     "data": {
      "text/plain": [
       "True"
      ]
     },
     "execution_count": 11,
     "metadata": {},
     "output_type": "execute_result"
    }
   ],
   "source": [
    "10!=9 and 29>=29"
   ]
  },
  {
   "cell_type": "code",
   "execution_count": 12,
   "id": "0be73b6a-b1a4-4d81-9603-5926070646eb",
   "metadata": {},
   "outputs": [
    {
     "data": {
      "text/plain": [
       "False"
      ]
     },
     "execution_count": 12,
     "metadata": {},
     "output_type": "execute_result"
    }
   ],
   "source": [
    "10!=9 and 29>=29 and 'hi' >'hello' or 'bye' < 'Bye' and 7<=2.5"
   ]
  },
  {
   "cell_type": "markdown",
   "id": "1cd6c199-e3fe-456b-9ccb-e399856255ce",
   "metadata": {},
   "source": [
    "Question 3"
   ]
  },
  {
   "cell_type": "code",
   "execution_count": 1,
   "id": "aa03e66d-b7c9-4ae8-b8b5-2231f1d78218",
   "metadata": {},
   "outputs": [
    {
     "name": "stdout",
     "output_type": "stream",
     "text": [
      "Good\n"
     ]
    }
   ],
   "source": [
    "marks = int(input(\"Enter:\" ))\n",
    "remarks = 'Good' if marks>=70 else 'Average'\n",
    "print(remarks)\n"
   ]
  },
  {
   "cell_type": "markdown",
   "id": "f686e597",
   "metadata": {},
   "source": [
    "Question 4"
   ]
  },
  {
   "cell_type": "code",
   "execution_count": 14,
   "id": "ed8fc6b6",
   "metadata": {},
   "outputs": [
    {
     "data": {
      "text/plain": [
       "14"
      ]
     },
     "execution_count": 14,
     "metadata": {},
     "output_type": "execute_result"
    }
   ],
   "source": [
    "list = {2, 3, 4, 5}\n",
    "sum=0\n",
    "for i in list:\n",
    "    sum+=i\n",
    "sum"
   ]
  },
  {
   "cell_type": "markdown",
   "id": "cf736496",
   "metadata": {},
   "source": [
    "Question 5"
   ]
  },
  {
   "cell_type": "code",
   "execution_count": 3,
   "id": "25b5a66c",
   "metadata": {},
   "outputs": [
    {
     "name": "stdout",
     "output_type": "stream",
     "text": [
      "4\n"
     ]
    }
   ],
   "source": [
    "def GCD(a, b):\n",
    "    if(b==0):\n",
    "        return a\n",
    "    return GCD(b, a%b)\n",
    "a = int(input(\"Enter a number: \"))\n",
    "b = int(input(\"Enter 2nd number:\"))\n",
    "print(GCD(a, b))"
   ]
  },
  {
   "cell_type": "markdown",
   "id": "0c6e3570",
   "metadata": {},
   "source": [
    "Question 6"
   ]
  },
  {
   "cell_type": "code",
   "execution_count": 9,
   "id": "d2fe564f",
   "metadata": {},
   "outputs": [
    {
     "name": "stdout",
     "output_type": "stream",
     "text": [
      "21\n"
     ]
    }
   ],
   "source": [
    "a = 20\n",
    "b = 21\n",
    "c = 13\n",
    "if(a>b):\n",
    "    if(a>c):\n",
    "        print(a)\n",
    "    else:\n",
    "        print(c)\n",
    "else:\n",
    "    if(b>c):\n",
    "        print(b)\n",
    "    else:\n",
    "        print(c)\n"
   ]
  },
  {
   "cell_type": "markdown",
   "id": "9bdcb821",
   "metadata": {},
   "source": [
    "Question 7"
   ]
  },
  {
   "cell_type": "code",
   "execution_count": 4,
   "id": "572363ca",
   "metadata": {},
   "outputs": [
    {
     "name": "stdout",
     "output_type": "stream",
     "text": [
      "5\n"
     ]
    }
   ],
   "source": [
    "list1 = [2, 3, 4, 5, 3, 2]\n",
    "max = 0\n",
    "for el in list1:\n",
    "    if(el>max):\n",
    "        max=el\n",
    "print(max)"
   ]
  },
  {
   "cell_type": "markdown",
   "id": "07dca5e6",
   "metadata": {},
   "source": [
    "Question 8"
   ]
  },
  {
   "cell_type": "code",
   "execution_count": 17,
   "id": "dc92bd3a",
   "metadata": {},
   "outputs": [
    {
     "name": "stdout",
     "output_type": "stream",
     "text": [
      "423\n",
      "True\n"
     ]
    }
   ],
   "source": [
    "def sum(n):\n",
    "    sum1 = 0\n",
    "    while(n!=0):\n",
    "        sum1 = sum1+(n%10)\n",
    "        n=n//10\n",
    "    return sum1\n",
    "\n",
    "n = int(input(\"Enter a number: \"))\n",
    "print(n)\n",
    "sum1=n\n",
    "while(sum1>10):\n",
    "    sum1 = sum(sum1)\n",
    "\n",
    "if(sum1==9):\n",
    "    print(True)\n",
    "else:\n",
    "    print(False)"
   ]
  },
  {
   "cell_type": "markdown",
   "id": "1c6ffffd",
   "metadata": {},
   "source": [
    "Question 9"
   ]
  },
  {
   "cell_type": "code",
   "execution_count": 14,
   "id": "751fce77",
   "metadata": {},
   "outputs": [
    {
     "name": "stdout",
     "output_type": "stream",
     "text": [
      "20\n"
     ]
    }
   ],
   "source": [
    "n1=int(input(\"Enter a number: \"))\n",
    "sum0 = 0\n",
    "while(n1!=0):\n",
    "    sum0 = sum0+(n1%10)\n",
    "    n1=int(n1/10)\n",
    "print(sum0)"
   ]
  },
  {
   "cell_type": "markdown",
   "id": "fb0db566",
   "metadata": {},
   "source": [
    "Question 10"
   ]
  },
  {
   "cell_type": "code",
   "execution_count": 18,
   "id": "ebc17513",
   "metadata": {},
   "outputs": [
    {
     "name": "stdout",
     "output_type": "stream",
     "text": [
      "1\n",
      "2\n",
      "3\n",
      "5\n",
      "7\n",
      "11\n",
      "13\n"
     ]
    }
   ],
   "source": [
    "def isPrime(n):\n",
    "    for i in range(2, (n//2)+1):\n",
    "        if(n%i==0):\n",
    "            return False\n",
    "    return True\n",
    "a = int(input(\"Enter 1st number: \"))\n",
    "b = int(input(\"Enter 2nd number: \"))\n",
    "for n in range(a, b+1):\n",
    "    # print(isPrime(n))\n",
    "    if(isPrime(n)==True):\n",
    "        print(n)"
   ]
  },
  {
   "cell_type": "markdown",
   "id": "d9a2f7cd",
   "metadata": {},
   "source": []
  },
  {
   "cell_type": "markdown",
   "id": "d7bee5fd",
   "metadata": {},
   "source": [
    "Home Assignment: \n",
    "\n",
    "Question 1:"
   ]
  },
  {
   "cell_type": "code",
   "execution_count": 21,
   "id": "352c3993",
   "metadata": {},
   "outputs": [
    {
     "name": "stdout",
     "output_type": "stream",
     "text": [
      "4th quadrant\n"
     ]
    }
   ],
   "source": [
    "def find_Axis(x, y):\n",
    "    if(x==0 and y==0):\n",
    "        print(\"Origin\")\n",
    "    elif(x==0 and y!=0):\n",
    "        print(\"Y-axis\")\n",
    "    elif(x!=0 and y==0):\n",
    "        print(\"X-axis\")\n",
    "    elif(x>0 and y>0):\n",
    "        print(\"1st quadrant\")\n",
    "    elif(x<0 and y>0):\n",
    "        print(\"2nd quadrant\")\n",
    "    elif(x<0 and y<0):\n",
    "        print(\"3rd quadrant\")\n",
    "    else: \n",
    "        print(\"4th quadrant\")\n",
    "    \n",
    "x = int(input(\"Enter X-axis: \"))\n",
    "y = int(input(\"Enter Y-axis: \"))\n",
    "find_Axis(x, y)\n"
   ]
  },
  {
   "cell_type": "markdown",
   "id": "48fd92d6",
   "metadata": {},
   "source": [
    "Question 2"
   ]
  },
  {
   "cell_type": "code",
   "execution_count": 25,
   "id": "ba7f5d31",
   "metadata": {},
   "outputs": [
    {
     "name": "stdout",
     "output_type": "stream",
     "text": [
      "6\n",
      "Perfect\n"
     ]
    }
   ],
   "source": [
    "def is_Perfect(x):\n",
    "    j = 1\n",
    "    sum = 0\n",
    "    while(j<=x/2):\n",
    "        if(x%j==0):\n",
    "            sum+=j\n",
    "        j+=1\n",
    "    return sum\n",
    "num = int(input(\"Enter a number: \"))\n",
    "print(num)\n",
    "s = is_Perfect(num)\n",
    "print(\"Perfect\") if s==num else print(\"Not Perfect\")"
   ]
  }
 ],
 "metadata": {
  "kernelspec": {
   "display_name": "Python 3 (ipykernel)",
   "language": "python",
   "name": "python3"
  },
  "language_info": {
   "codemirror_mode": {
    "name": "ipython",
    "version": 3
   },
   "file_extension": ".py",
   "mimetype": "text/x-python",
   "name": "python",
   "nbconvert_exporter": "python",
   "pygments_lexer": "ipython3",
   "version": "3.12.2"
  }
 },
 "nbformat": 4,
 "nbformat_minor": 5
}
